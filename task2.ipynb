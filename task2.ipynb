{
 "cells": [
  {
   "cell_type": "code",
   "execution_count": null,
   "metadata": {
    "_cell_guid": "b1076dfc-b9ad-4769-8c92-a6c4dae69d19",
    "_uuid": "8f2839f25d086af736a60e9eeb907d3b93b6e0e5"
   },
   "outputs": [],
   "source": [
    "%reload_ext autoreload\n",
    "%autoreload 2\n",
    "%matplotlib inline"
   ]
  },
  {
   "cell_type": "code",
   "execution_count": 20,
   "metadata": {
    "execution": {
     "iopub.execute_input": "2022-01-13T06:26:24.633490Z",
     "iopub.status.busy": "2022-01-13T06:26:24.633223Z",
     "iopub.status.idle": "2022-01-13T06:26:24.909519Z",
     "shell.execute_reply": "2022-01-13T06:26:24.908737Z",
     "shell.execute_reply.started": "2022-01-13T06:26:24.633459Z"
    }
   },
   "outputs": [],
   "source": [
    "# importing everything \n",
    "from keras.layers import Input, Lambda, Dense, Flatten\n",
    "from keras.models import Model\n",
    "import tensorflow as tf\n",
    "from tensorflow.keras.applications.vgg19 import VGG19\n",
    "from tensorflow.keras.applications.mobilenet import MobileNet\n",
    "from tensorflow.keras.applications.mobilenet import preprocess_input as mobilepreprocess\n",
    "from tensorflow.keras.applications.vgg19 import preprocess_input as vggpreprocess\n",
    "from tensorflow.keras.applications.resnet50 import preprocess_input as resnetpreprocess\n",
    "from keras.preprocessing import image\n",
    "from tensorflow.keras.layers import Conv2D, MaxPooling2D, Dropout,GlobalAveragePooling2D\n",
    "from keras.preprocessing.image import ImageDataGenerator\n",
    "from keras.models import Sequential\n",
    "import numpy as np\n",
    "import matplotlib.pyplot as plt\n",
    "from tensorflow.keras import optimizers\n",
    "from tensorflow.keras import mixed_precision\n",
    "from tensorflow.keras.layers import BatchNormalization\n",
    "\n",
    "mixed_precision.set_global_policy('mixed_float16') # adding mixed precision for effeciency\n",
    "\n",
    "generator = ImageDataGenerator(rescale = 1./255,\n",
    "                               shear_range = 0.2,\n",
    "                                zoom_range = 0.2,\n",
    "                               validation_split = 0.20)# specifying data generation parameters and splitting\n",
    "\n",
    "train_set = generator.flow_from_directory('../input/exml-prelims-task-2/train/train', batch_size = 32, target_size = (224, 224),\n",
    "                                         color_mode = 'rgb', class_mode = 'categorical', subset = 'training')\n",
    "\n",
    "valid_set = generator.flow_from_directory('../input/exml-prelims-task-2/train/train', batch_size = 32, target_size = (224, 224),\n",
    "                                          color_mode = 'rgb', class_mode = 'categorical', subset = 'validation')"
   ]
  },
  {
   "cell_type": "code",
   "execution_count": 21,
   "metadata": {
    "execution": {
     "iopub.execute_input": "2022-01-13T06:26:29.025361Z",
     "iopub.status.busy": "2022-01-13T06:26:29.024550Z",
     "iopub.status.idle": "2022-01-13T06:26:31.410467Z",
     "shell.execute_reply": "2022-01-13T06:26:31.409714Z",
     "shell.execute_reply.started": "2022-01-13T06:26:29.025307Z"
    }
   },
   "outputs": [],
   "source": [
    "#creating transfer learning model with the inceptionv3 pretrained model\n",
    "InceptionV3_model = tf.keras.applications.InceptionV3(weights='imagenet', include_top=False, input_shape=(224, 224, 3))"
   ]
  },
  {
   "cell_type": "code",
   "execution_count": 22,
   "metadata": {
    "execution": {
     "iopub.execute_input": "2022-01-13T06:26:41.402046Z",
     "iopub.status.busy": "2022-01-13T06:26:41.401289Z",
     "iopub.status.idle": "2022-01-13T06:26:41.518311Z",
     "shell.execute_reply": "2022-01-13T06:26:41.517603Z",
     "shell.execute_reply.started": "2022-01-13T06:26:41.401995Z"
    }
   },
   "outputs": [],
   "source": [
    "for layer in InceptionV3_model.layers:\n",
    "    layer.trainable = False\n",
    "\n",
    "#Adding layers to the model for input and output\n",
    "x = InceptionV3_model.output\n",
    "x = GlobalAveragePooling2D()(x)\n",
    "x = Flatten()(x)\n",
    "x = Dense(units=512, activation='relu')(x)\n",
    "x = Dropout(0.3)(x)\n",
    "x = Dense(units=512, activation='relu')(x)\n",
    "x = Dropout(0.3)(x)\n",
    "\n",
    "#dropout to prevent overfitting(which is still happening :(( )\n",
    "# Didn't have much time to debug all of this so submitted with low score \n",
    "\n",
    "output = Dense(units=8, activation='softmax', dtype='float32')(x)\n",
    "model = Model(InceptionV3_model.input, output)\n",
    "\n",
    "\n",
    "model.summary()"
   ]
  },
  {
   "cell_type": "code",
   "execution_count": 23,
   "metadata": {
    "execution": {
     "iopub.execute_input": "2022-01-13T06:26:44.376727Z",
     "iopub.status.busy": "2022-01-13T06:26:44.376330Z",
     "iopub.status.idle": "2022-01-13T06:26:44.471690Z",
     "shell.execute_reply": "2022-01-13T06:26:44.470903Z",
     "shell.execute_reply.started": "2022-01-13T06:26:44.376691Z"
    }
   },
   "outputs": [],
   "source": [
    "opt = optimizers.Adam()\n",
    "model.compile(loss='categorical_crossentropy',optimizer=opt,metrics=['accuracy'])"
   ]
  },
  {
   "cell_type": "code",
   "execution_count": 24,
   "metadata": {
    "execution": {
     "iopub.execute_input": "2022-01-13T06:26:46.327941Z",
     "iopub.status.busy": "2022-01-13T06:26:46.327244Z",
     "iopub.status.idle": "2022-01-13T06:27:06.623734Z",
     "shell.execute_reply": "2022-01-13T06:27:06.623011Z",
     "shell.execute_reply.started": "2022-01-13T06:26:46.327900Z"
    }
   },
   "outputs": [],
   "source": [
    "history = model.fit(train_set, validation_data=valid_set, epochs=8,steps_per_epoch=5,validation_steps=32, verbose=1)"
   ]
  },
  {
   "cell_type": "code",
   "execution_count": 25,
   "metadata": {
    "execution": {
     "iopub.execute_input": "2022-01-13T06:27:13.145704Z",
     "iopub.status.busy": "2022-01-13T06:27:13.145442Z",
     "iopub.status.idle": "2022-01-13T06:27:13.781743Z",
     "shell.execute_reply": "2022-01-13T06:27:13.781011Z",
     "shell.execute_reply.started": "2022-01-13T06:27:13.145675Z"
    }
   },
   "outputs": [],
   "source": [
    "print(history.history['val_accuracy'])\n",
    "print(history.history['val_loss'])"
   ]
  },
  {
   "cell_type": "code",
   "execution_count": null,
   "metadata": {
    "scrolled": true
   },
   "outputs": [],
   "source": [
    "from skimage import io\n",
    "import numpy as np\n",
    "import cv2\n",
    "from skimage.transform import resize\n",
    "import os\n",
    "\n",
    "#predicting test data for submission\n",
    "res = {}\n",
    "tally = 0\n",
    "\n",
    "for image in os.listdir(\"../input/exml-prelims-task-2/test/test/\"):\n",
    "    img = cv2.imread(f\"../input/exml-prelims-task-2/test/test/{image}\")\n",
    "    img = cv2.resize(img, (224,224))\n",
    "    img = np.expand_dims(img, axis = 0)\n",
    "\n",
    "    predicted = model.predict(img).reshape(-1)\n",
    "    print(predicted)\n",
    "    company = np.argmax(predicted) + 1\n",
    "    \n",
    "    res[image.replace(\".png\", \"\")] = company\n",
    "    print(f\"{tally} images predicted\")\n",
    "    \n",
    "    tally += 1\n",
    "\n",
    "#Testing on one image\n",
    "\"\"\"\n",
    "image = cv2.imread(\"../input/exml-prelims-task-2/test/test/xtjEJZKFnZ_565719.png\")\n",
    "plt.imshow(image)\n",
    "image = cv2.resize(image, (100,100))\n",
    "image = np.expand_dims(image, axis = 0)\n",
    "\n",
    "predicted = model.predict(image).reshape(-1)\n",
    "print(predicted)\n",
    "company = np.argmax(predicted)+1\n",
    "\n",
    "print(company)\"\"\""
   ]
  },
  {
   "cell_type": "code",
   "execution_count": null,
   "metadata": {},
   "outputs": [],
   "source": [
    "#generating submission.csv\n",
    "import pandas as pd\n",
    "df = pd.DataFrame(res.items(), columns=['id', 'company'])\n",
    "df.to_csv(\"submission2fortask2.csv\", index=False)"
   ]
  }
 ],
 "metadata": {
  "kernelspec": {
   "display_name": "Python 3 (ipykernel)",
   "language": "python",
   "name": "python3"
  },
  "language_info": {
   "codemirror_mode": {
    "name": "ipython",
    "version": 3
   },
   "file_extension": ".py",
   "mimetype": "text/x-python",
   "name": "python",
   "nbconvert_exporter": "python",
   "pygments_lexer": "ipython3",
   "version": "3.10.1"
  }
 },
 "nbformat": 4,
 "nbformat_minor": 4
}
